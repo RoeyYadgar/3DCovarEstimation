{
 "cells": [
  {
   "cell_type": "markdown",
   "metadata": {
    "isInteractiveWindowMessageCell": true
   },
   "source": [
    "Restarted aspire (Python 3.8.18)"
   ]
  },
  {
   "cell_type": "code",
   "execution_count": 53,
   "metadata": {},
   "outputs": [
    {
     "name": "stdout",
     "output_type": "stream",
     "text": [
      "2024-03-23 14:25:02,978 INFO [aspire.source.image] Creating Simulation with 2000 images.\n"
     ]
    }
   ],
   "source": [
    "import aspire\n",
    "import numpy as np\n",
    "import pandas as pd\n",
    "from aspire.operators import RadialCTFFilter\n",
    "from aspire.source.simulation import Simulation\n",
    "from aspire.volume import LegacyVolume, Volume\n",
    "from utils import volsCovarEigenvec\n",
    "import time\n",
    "from covar_estimation import im_stack_backward\n",
    "import torch\n",
    "# Specify parameters\n",
    "img_size = 15  # image size in square\n",
    "num_imgs = 2000  # number of images\n",
    "dtype = np.float32\n",
    "\n",
    "\n",
    "rank = 4\n",
    "c = rank + 1\n",
    "vols = LegacyVolume(\n",
    "    L=img_size,\n",
    "    C=c,\n",
    "    dtype=dtype,\n",
    ").generate()\n",
    "vols -= np.mean(vols,axis=0)\n",
    "sim = Simulation(\n",
    "    #unique_filters=[RadialCTFFilter(defocus=d) for d in np.linspace(1.5e4, 2.5e4, 7)],\n",
    "    n=num_imgs,\n",
    "    vols=vols,\n",
    "    dtype=dtype,\n",
    "    amplitudes=1,\n",
    "    offsets = 0\n",
    ")\n",
    "\n",
    "vectorsGD = torch.tensor(volsCovarEigenvec(vols).asnumpy(),requires_grad = False)"
   ]
  },
  {
   "cell_type": "code",
   "execution_count": 56,
   "metadata": {},
   "outputs": [
    {
     "name": "stdout",
     "output_type": "stream",
     "text": [
      "The autoreload extension is already loaded. To reload it, use:\n",
      "  %reload_ext autoreload\n"
     ]
    }
   ],
   "source": [
    "%load_ext autoreload\n",
    "%autoreload 2\n",
    "\n",
    "from covar_sgd import CovarDataset,Covar,CovarTrainer,dataset_collate\n",
    "cds = CovarDataset(sim,rank = rank)\n",
    "covar = Covar(resolution=img_size,rank=rank,norm_factor=cds.im_norm_factor)#,vectors=vectorsGD)\n",
    "batch_size = 10\n",
    "learning_rate = 1e-4\n",
    "momentum = 0.9\n",
    "device = torch.device('cuda:0')\n",
    "dataloader = torch.utils.data.DataLoader(cds,batch_size = batch_size,shuffle = False,collate_fn=dataset_collate)\n",
    "optimizer = torch.optim.SGD(covar.parameters(),lr = learning_rate,momentum = momentum)\n",
    "trainer = CovarTrainer(covar,dataloader,device,vectorsGD = vectorsGD/cds.im_norm_factor)"
   ]
  },
  {
   "cell_type": "code",
   "execution_count": 57,
   "metadata": {},
   "outputs": [
    {
     "name": "stderr",
     "output_type": "stream",
     "text": [
      "Epoch 0 , :   0%|          | 0/200 [00:00<?, ?it/s]"
     ]
    },
    {
     "name": "stderr",
     "output_type": "stream",
     "text": [
      "cost value : 9.82e+04,  cosine sim : 0.59: 100%|██████████| 200/200 [00:11<00:00, 17.56it/s]\n",
      "cost value : 3.04e+05,  cosine sim : 0.66: 100%|██████████| 200/200 [00:11<00:00, 17.81it/s]\n",
      "cost value : 8.61e+04,  cosine sim : 0.70: 100%|██████████| 200/200 [00:11<00:00, 17.59it/s]\n",
      "cost value : 4.59e+04,  cosine sim : 0.71: 100%|██████████| 200/200 [00:11<00:00, 17.08it/s]\n",
      "cost value : 2.33e+05,  cosine sim : 0.75: 100%|██████████| 200/200 [00:11<00:00, 17.84it/s]\n",
      "cost value : 3.05e+05,  cosine sim : 0.76: 100%|██████████| 200/200 [00:11<00:00, 17.45it/s]\n",
      "cost value : 7.78e+04,  cosine sim : 0.77: 100%|██████████| 200/200 [00:11<00:00, 17.10it/s]\n",
      "cost value : 3.91e+04,  cosine sim : 0.76: 100%|██████████| 200/200 [00:10<00:00, 18.60it/s]\n",
      "cost value : 6.53e+04,  cosine sim : 0.77: 100%|██████████| 200/200 [00:11<00:00, 17.47it/s]\n",
      "cost value : 3.47e+05,  cosine sim : 0.77: 100%|██████████| 200/200 [00:11<00:00, 18.13it/s]\n"
     ]
    }
   ],
   "source": [
    "trainer.train(10)"
   ]
  },
  {
   "cell_type": "code",
   "execution_count": 52,
   "metadata": {},
   "outputs": [
    {
     "name": "stderr",
     "output_type": "stream",
     "text": [
      "cost value : 6.02e+02,  cosine sim : 1.00:  40%|████      | 80/200 [03:05<04:38,  2.32s/it]\n"
     ]
    },
    {
     "name": "stdout",
     "output_type": "stream",
     "text": [
      "tensor(3086.4863, device='cuda:0', grad_fn=<MeanBackward1>) tensor(-0.0007, device='cuda:0', grad_fn=<MeanBackward1>)\n"
     ]
    }
   ],
   "source": [
    "images,plans = cds[:]\n",
    "images = images.to(device)\n",
    "#covar = Covar(resolution=img_size,rank=rank,norm_factor=cds.im_norm_factor)\n",
    "covar = covar.to(device)\n",
    "a = covar.cost(images,plans)\n",
    "\n",
    "covarGD = Covar(resolution=img_size,rank=rank,norm_factor=cds.im_norm_factor,vectors=vectorsGD)\n",
    "covarGD = covarGD.to(device)\n",
    "b = covarGD.cost(images,plans)\n",
    "\n",
    "print(a,b)\n"
   ]
  },
  {
   "cell_type": "code",
   "execution_count": 48,
   "metadata": {},
   "outputs": [
    {
     "data": {
      "text/plain": [
       "[array([[-0.02840121]], dtype=float32),\n",
       " array([[-0.03713643]], dtype=float32),\n",
       " array([[-0.07990742]], dtype=float32),\n",
       " array([[-0.19121245]], dtype=float32),\n",
       " array([[-0.42498663]], dtype=float32),\n",
       " array([[-0.6909434]], dtype=float32),\n",
       " array([[-0.7764266]], dtype=float32),\n",
       " array([[-0.7366661]], dtype=float32),\n",
       " array([[-0.67463344]], dtype=float32),\n",
       " array([[-0.6347184]], dtype=float32),\n",
       " array([[-0.6316152]], dtype=float32),\n",
       " array([[-0.68954724]], dtype=float32),\n",
       " array([[-0.7649933]], dtype=float32),\n",
       " array([[-0.80808586]], dtype=float32),\n",
       " array([[-0.8180496]], dtype=float32),\n",
       " array([[-0.8170496]], dtype=float32),\n",
       " array([[-0.8171366]], dtype=float32),\n",
       " array([[-0.82627994]], dtype=float32),\n",
       " array([[-0.85104334]], dtype=float32),\n",
       " array([[-0.8747826]], dtype=float32),\n",
       " array([[-0.8915245]], dtype=float32),\n",
       " array([[-0.90418965]], dtype=float32),\n",
       " array([[-0.9114733]], dtype=float32),\n",
       " array([[-0.92441475]], dtype=float32),\n",
       " array([[-0.9385556]], dtype=float32),\n",
       " array([[-0.9449637]], dtype=float32),\n",
       " array([[-0.95255506]], dtype=float32),\n",
       " array([[-0.9549511]], dtype=float32),\n",
       " array([[-0.9622845]], dtype=float32),\n",
       " array([[-0.9701611]], dtype=float32),\n",
       " array([[-0.9717298]], dtype=float32),\n",
       " array([[-0.97703034]], dtype=float32),\n",
       " array([[-0.9767954]], dtype=float32),\n",
       " array([[-0.9813305]], dtype=float32),\n",
       " array([[-0.9845664]], dtype=float32),\n",
       " array([[-0.9837692]], dtype=float32),\n",
       " array([[-0.9880121]], dtype=float32),\n",
       " array([[-0.9862812]], dtype=float32),\n",
       " array([[-0.9897663]], dtype=float32),\n",
       " array([[-0.9901941]], dtype=float32),\n",
       " array([[0.98968506]], dtype=float32),\n",
       " array([[-0.9929153]], dtype=float32),\n",
       " array([[-0.99058795]], dtype=float32),\n",
       " array([[-0.9940889]], dtype=float32),\n",
       " array([[0.99252063]], dtype=float32),\n",
       " array([[0.99303216]], dtype=float32),\n",
       " array([[-0.99525845]], dtype=float32),\n",
       " array([[-0.9929566]], dtype=float32),\n",
       " array([[-0.99614614]], dtype=float32),\n",
       " array([[0.99455935]], dtype=float32),\n",
       " array([[0.99350744]], dtype=float32),\n",
       " array([[-0.99670607]], dtype=float32),\n",
       " array([[-0.9938801]], dtype=float32),\n",
       " array([[-0.99683]], dtype=float32),\n",
       " array([[0.99464506]], dtype=float32),\n",
       " array([[0.9950982]], dtype=float32),\n",
       " array([[-0.99712414]], dtype=float32),\n",
       " array([[-0.99473566]], dtype=float32),\n",
       " array([[-0.9976391]], dtype=float32),\n",
       " array([[0.99432176]], dtype=float32),\n",
       " array([[0.9964972]], dtype=float32),\n",
       " array([[-0.9969625]], dtype=float32),\n",
       " array([[-0.99560463]], dtype=float32),\n",
       " array([[-0.9979211]], dtype=float32),\n",
       " array([[0.99407315]], dtype=float32),\n",
       " array([[0.9974746]], dtype=float32),\n",
       " array([[-0.9965232]], dtype=float32),\n",
       " array([[-0.9965592]], dtype=float32)]"
      ]
     },
     "execution_count": 48,
     "metadata": {},
     "output_type": "execute_result"
    }
   ],
   "source": [
    "trainer.log_cosine_sim"
   ]
  }
 ],
 "metadata": {
  "kernelspec": {
   "display_name": "aspire",
   "language": "python",
   "name": "python3"
  },
  "language_info": {
   "codemirror_mode": {
    "name": "ipython",
    "version": 3
   },
   "file_extension": ".py",
   "mimetype": "text/x-python",
   "name": "python",
   "nbconvert_exporter": "python",
   "pygments_lexer": "ipython3",
   "version": "3.8.18"
  }
 },
 "nbformat": 4,
 "nbformat_minor": 2
}
