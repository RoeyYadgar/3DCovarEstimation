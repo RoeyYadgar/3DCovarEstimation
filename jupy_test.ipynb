{
 "cells": [
  {
   "cell_type": "markdown",
   "metadata": {
    "isInteractiveWindowMessageCell": true
   },
   "source": [
    "Restarted aspire (Python 3.8.18)"
   ]
  },
  {
   "cell_type": "code",
   "execution_count": 1,
   "metadata": {},
   "outputs": [
    {
     "name": "stdout",
     "output_type": "stream",
     "text": [
      "2024-03-24 14:24:59,956 INFO [aspire.source.image] Creating Simulation with 2000 images.\n"
     ]
    }
   ],
   "source": [
    "import aspire\n",
    "import numpy as np\n",
    "import pandas as pd\n",
    "from aspire.operators import RadialCTFFilter\n",
    "from aspire.source.simulation import Simulation\n",
    "from aspire.volume import LegacyVolume, Volume\n",
    "from utils import volsCovarEigenvec\n",
    "import time\n",
    "from covar_estimation import im_stack_backward\n",
    "import torch\n",
    "# Specify parameters\n",
    "img_size = 15  # image size in square\n",
    "num_imgs = 2000  # number of images\n",
    "dtype = np.float32\n",
    "\n",
    "\n",
    "rank = 4\n",
    "c = rank + 1\n",
    "vols = LegacyVolume(\n",
    "    L=img_size,\n",
    "    C=c,\n",
    "    dtype=dtype,\n",
    ").generate()\n",
    "vols -= np.mean(vols,axis=0)\n",
    "sim = Simulation(\n",
    "    #unique_filters=[RadialCTFFilter(defocus=d) for d in np.linspace(1.5e4, 2.5e4, 7)],\n",
    "    n=num_imgs,\n",
    "    vols=vols,\n",
    "    dtype=dtype,\n",
    "    amplitudes=1,\n",
    "    offsets = 0\n",
    ")\n",
    "\n",
    "vectorsGD = torch.tensor(volsCovarEigenvec(vols).asnumpy(),requires_grad = False)"
   ]
  },
  {
   "cell_type": "code",
   "execution_count": 7,
   "metadata": {},
   "outputs": [
    {
     "name": "stdout",
     "output_type": "stream",
     "text": [
      "The autoreload extension is already loaded. To reload it, use:\n",
      "  %reload_ext autoreload\n"
     ]
    }
   ],
   "source": [
    "%load_ext autoreload\n",
    "%autoreload 2\n",
    "\n",
    "from covar_sgd import CovarDataset,Covar,CovarTrainer,dataset_collate\n",
    "cds = CovarDataset(sim,rank = rank)\n",
    "covar = Covar(resolution=img_size,rank=rank,norm_factor=cds.im_norm_factor)#,vectors=vectorsGD)\n",
    "batch_size = 32\n",
    "learning_rate = 5e-4\n",
    "momentum = 0.9\n",
    "reg = 1e-5\n",
    "gamma_lr = 0.8\n",
    "gamma_reg = 1\n",
    "device = torch.device('cuda:0')\n",
    "dataloader = torch.utils.data.DataLoader(cds,batch_size = batch_size,shuffle = False)#,collate_fn=dataset_collate)\n",
    "trainer = CovarTrainer(covar,dataloader,device,vectorsGD = vectorsGD/cds.im_norm_factor)"
   ]
  },
  {
   "cell_type": "code",
   "execution_count": 11,
   "metadata": {},
   "outputs": [
    {
     "name": "stderr",
     "output_type": "stream",
     "text": [
      "gpu : 5 ,cost value : 5.49e+04,  cosine sim : 0.04: 100%|██████████| 9/9 [00:04<00:00,  1.88it/s]\n",
      "gpu : 4 ,cost value : 6.53e+04,  cosine sim : 0.04: 100%|██████████| 9/9 [00:04<00:00,  1.89it/s]\n",
      "gpu : 6 ,cost value : 5.44e+04,  cosine sim : 0.04: 100%|██████████| 9/9 [00:04<00:00,  1.89it/s]\n",
      "gpu : 3 ,cost value : 6.47e+04,  cosine sim : 0.04: 100%|██████████| 9/9 [00:04<00:00,  1.88it/s]\n",
      "gpu : 2 ,cost value : 6.79e+04,  cosine sim : 0.04: 100%|██████████| 9/9 [00:04<00:00,  1.86it/s]\n",
      "gpu : 1 ,cost value : 5.28e+04,  cosine sim : 0.04: 100%|██████████| 9/9 [00:04<00:00,  1.85it/s]\n",
      "gpu : 0 ,cost value : 5.54e+04,  cosine sim : 0.04: 100%|██████████| 9/9 [00:04<00:00,  1.86it/s]\n",
      "gpu : 0 ,cost value : 5.52e+04,  cosine sim : 0.46: 100%|██████████| 9/9 [00:04<00:00,  2.03it/s]\n",
      "gpu : 5 ,cost value : 5.48e+04,  cosine sim : 0.46: 100%|██████████| 9/9 [00:04<00:00,  2.03it/s]\n",
      "gpu : 6 ,cost value : 5.41e+04,  cosine sim : 0.46: 100%|██████████| 9/9 [00:04<00:00,  2.03it/s]\n",
      "gpu : 4 ,cost value : 6.51e+04,  cosine sim : 0.46: 100%|██████████| 9/9 [00:04<00:00,  2.03it/s]\n",
      "gpu : 3 ,cost value : 6.45e+04,  cosine sim : 0.46: 100%|██████████| 9/9 [00:04<00:00,  2.03it/s]\n",
      "gpu : 1 ,cost value : 5.27e+04,  cosine sim : 0.46: 100%|██████████| 9/9 [00:04<00:00,  2.03it/s]\n",
      "gpu : 2 ,cost value : 6.77e+04,  cosine sim : 0.46: 100%|██████████| 9/9 [00:04<00:00,  2.02it/s]\n",
      "gpu : 0 ,cost value : 3.50e+04,  cosine sim : 0.63: 100%|██████████| 9/9 [00:04<00:00,  2.21it/s]\n",
      "gpu : 5 ,cost value : 3.67e+04,  cosine sim : 0.63: 100%|██████████| 9/9 [00:04<00:00,  2.21it/s]\n",
      "gpu : 4 ,cost value : 3.77e+04,  cosine sim : 0.63: 100%|██████████| 9/9 [00:04<00:00,  2.21it/s]\n",
      "gpu : 2 ,cost value : 4.39e+04,  cosine sim : 0.63: 100%|██████████| 9/9 [00:04<00:00,  2.22it/s]\n",
      "gpu : 3 ,cost value : 3.57e+04,  cosine sim : 0.63: 100%|██████████| 9/9 [00:04<00:00,  2.21it/s]\n",
      "gpu : 6 ,cost value : 3.72e+04,  cosine sim : 0.63: 100%|██████████| 9/9 [00:04<00:00,  2.19it/s]\n",
      "gpu : 1 ,cost value : 3.66e+04,  cosine sim : 0.63: 100%|██████████| 9/9 [00:04<00:00,  2.20it/s]\n",
      "gpu : 5 ,cost value : 3.21e+04,  cosine sim : 0.70: 100%|██████████| 9/9 [00:04<00:00,  2.18it/s]\n",
      "gpu : 6 ,cost value : 3.25e+04,  cosine sim : 0.70: 100%|██████████| 9/9 [00:04<00:00,  2.19it/s]\n",
      "gpu : 4 ,cost value : 3.42e+04,  cosine sim : 0.70: 100%|██████████| 9/9 [00:04<00:00,  2.18it/s]\n",
      "gpu : 0 ,cost value : 3.30e+04,  cosine sim : 0.70: 100%|██████████| 9/9 [00:04<00:00,  2.18it/s]\n",
      "gpu : 2 ,cost value : 4.05e+04,  cosine sim : 0.70: 100%|██████████| 9/9 [00:04<00:00,  2.19it/s]\n",
      "gpu : 1 ,cost value : 3.13e+04,  cosine sim : 0.70: 100%|██████████| 9/9 [00:04<00:00,  2.20it/s]\n",
      "gpu : 3 ,cost value : 3.36e+04,  cosine sim : 0.70: 100%|██████████| 9/9 [00:04<00:00,  2.18it/s]\n",
      "gpu : 5 ,cost value : 3.08e+04,  cosine sim : 0.74: 100%|██████████| 9/9 [00:05<00:00,  1.59it/s]\n",
      "gpu : 6 ,cost value : 2.90e+04,  cosine sim : 0.74: 100%|██████████| 9/9 [00:05<00:00,  1.59it/s]\n",
      "gpu : 0 ,cost value : 3.14e+04,  cosine sim : 0.74: 100%|██████████| 9/9 [00:05<00:00,  1.59it/s]\n",
      "gpu : 4 ,cost value : 3.42e+04,  cosine sim : 0.74: 100%|██████████| 9/9 [00:05<00:00,  1.58it/s]\n",
      "gpu : 1 ,cost value : 2.93e+04,  cosine sim : 0.74: 100%|██████████| 9/9 [00:05<00:00,  1.58it/s]\n",
      "gpu : 3 ,cost value : 3.27e+04,  cosine sim : 0.74: 100%|██████████| 9/9 [00:05<00:00,  1.59it/s]\n",
      "gpu : 2 ,cost value : 3.91e+04,  cosine sim : 0.74: 100%|██████████| 9/9 [00:05<00:00,  1.58it/s]\n",
      "gpu : 4 ,cost value : 3.23e+04,  cosine sim : 0.76: 100%|██████████| 9/9 [00:04<00:00,  1.89it/s]\n",
      "gpu : 6 ,cost value : 2.82e+04,  cosine sim : 0.76: 100%|██████████| 9/9 [00:04<00:00,  1.88it/s]\n",
      "gpu : 5 ,cost value : 2.99e+04,  cosine sim : 0.76: 100%|██████████| 9/9 [00:04<00:00,  1.87it/s]\n",
      "gpu : 0 ,cost value : 3.04e+04,  cosine sim : 0.76: 100%|██████████| 9/9 [00:04<00:00,  1.87it/s]\n",
      "gpu : 3 ,cost value : 3.11e+04,  cosine sim : 0.76: 100%|██████████| 9/9 [00:04<00:00,  1.86it/s]\n",
      "gpu : 2 ,cost value : 3.69e+04,  cosine sim : 0.76: 100%|██████████| 9/9 [00:04<00:00,  1.86it/s]\n",
      "gpu : 1 ,cost value : 2.86e+04,  cosine sim : 0.76: 100%|██████████| 9/9 [00:04<00:00,  1.85it/s]\n",
      "gpu : 0 ,cost value : 3.02e+04,  cosine sim : 0.77: 100%|██████████| 9/9 [00:03<00:00,  2.28it/s]\n",
      "gpu : 5 ,cost value : 2.99e+04,  cosine sim : 0.77: 100%|██████████| 9/9 [00:03<00:00,  2.28it/s]\n",
      "gpu : 4 ,cost value : 3.12e+04,  cosine sim : 0.77: 100%|██████████| 9/9 [00:03<00:00,  2.27it/s]\n",
      "gpu : 6 ,cost value : 2.83e+04,  cosine sim : 0.77: 100%|██████████| 9/9 [00:03<00:00,  2.27it/s]\n",
      "gpu : 3 ,cost value : 3.01e+04,  cosine sim : 0.77: 100%|██████████| 9/9 [00:03<00:00,  2.27it/s]\n",
      "gpu : 2 ,cost value : 3.63e+04,  cosine sim : 0.77: 100%|██████████| 9/9 [00:03<00:00,  2.27it/s]\n",
      "gpu : 1 ,cost value : 2.85e+04,  cosine sim : 0.77: 100%|██████████| 9/9 [00:03<00:00,  2.28it/s]\n",
      "gpu : 5 ,cost value : 2.94e+04,  cosine sim : 0.78: 100%|██████████| 9/9 [00:04<00:00,  2.02it/s]\n",
      "gpu : 4 ,cost value : 3.18e+04,  cosine sim : 0.78: 100%|██████████| 9/9 [00:04<00:00,  2.03it/s]\n",
      "gpu : 0 ,cost value : 3.02e+04,  cosine sim : 0.78: 100%|██████████| 9/9 [00:04<00:00,  2.02it/s]\n",
      "gpu : 3 ,cost value : 3.07e+04,  cosine sim : 0.78: 100%|██████████| 9/9 [00:04<00:00,  2.03it/s]\n",
      "gpu : 2 ,cost value : 3.66e+04,  cosine sim : 0.78: 100%|██████████| 9/9 [00:04<00:00,  2.04it/s]\n",
      "gpu : 6 ,cost value : 2.82e+04,  cosine sim : 0.78: 100%|██████████| 9/9 [00:04<00:00,  2.03it/s]\n",
      "gpu : 1 ,cost value : 2.80e+04,  cosine sim : 0.78: 100%|██████████| 9/9 [00:04<00:00,  2.03it/s]\n",
      "gpu : 6 ,cost value : 2.81e+04,  cosine sim : 0.79: 100%|██████████| 9/9 [00:04<00:00,  2.05it/s]\n",
      "gpu : 0 ,cost value : 3.00e+04,  cosine sim : 0.79: 100%|██████████| 9/9 [00:04<00:00,  2.05it/s]\n",
      "gpu : 4 ,cost value : 3.13e+04,  cosine sim : 0.79: 100%|██████████| 9/9 [00:04<00:00,  2.05it/s]\n",
      "gpu : 5 ,cost value : 2.95e+04,  cosine sim : 0.79: 100%|██████████| 9/9 [00:04<00:00,  2.04it/s]\n",
      "gpu : 1 ,cost value : 2.81e+04,  cosine sim : 0.79: 100%|██████████| 9/9 [00:04<00:00,  2.05it/s]\n",
      "gpu : 2 ,cost value : 3.62e+04,  cosine sim : 0.79: 100%|██████████| 9/9 [00:04<00:00,  2.14it/s]\n",
      "gpu : 2 ,cost value : 3.62e+04,  cosine sim : 0.79: 100%|██████████| 9/9 [00:04<00:00,  2.05it/s]\n",
      "gpu : 4 ,cost value : 3.15e+04,  cosine sim : 0.79: 100%|██████████| 9/9 [00:04<00:00,  2.06it/s]\n",
      "gpu : 5 ,cost value : 2.94e+04,  cosine sim : 0.79: 100%|██████████| 9/9 [00:04<00:00,  2.06it/s]\n",
      "gpu : 6 ,cost value : 2.79e+04,  cosine sim : 0.79: 100%|██████████| 9/9 [00:04<00:00,  2.06it/s]\n",
      "gpu : 0 ,cost value : 3.00e+04,  cosine sim : 0.79: 100%|██████████| 9/9 [00:04<00:00,  2.06it/s]\n",
      "gpu : 3 ,cost value : 3.04e+04,  cosine sim : 0.79: 100%|██████████| 9/9 [00:04<00:00,  2.07it/s]\n",
      "gpu : 2 ,cost value : 3.62e+04,  cosine sim : 0.79: 100%|██████████| 9/9 [00:04<00:00,  2.07it/s]\n",
      "gpu : 1 ,cost value : 2.80e+04,  cosine sim : 0.79: 100%|██████████| 9/9 [00:04<00:00,  2.06it/s]\n"
     ]
    }
   ],
   "source": [
    "\n",
    "from covar_distributed import trainParallel\n",
    "import torch.multiprocessing as mp\n",
    "\n",
    "world_size = torch.cuda.device_count()\n",
    "kwargs_dict = {'max_epochs' : 10, 'lr' : learning_rate,'momentum' : momentum,'optim_type' : 'SGD','reg' : reg,'gamma_lr': gamma_lr,'gamma_reg' : gamma_reg}\n",
    "trainParallel(covar,cds,batch_size = batch_size,vectorsGD = vectorsGD/cds.im_norm_factor,**kwargs_dict)\n",
    "\n"
   ]
  },
  {
   "cell_type": "code",
   "execution_count": null,
   "metadata": {},
   "outputs": [],
   "source": [
    "trainer.train(10,learning_rate,momentum,'SGD',reg = reg)"
   ]
  },
  {
   "cell_type": "code",
   "execution_count": null,
   "metadata": {},
   "outputs": [],
   "source": [
    "x = covar.state_dict()\n",
    "x"
   ]
  }
 ],
 "metadata": {
  "kernelspec": {
   "display_name": "aspire",
   "language": "python",
   "name": "python3"
  },
  "language_info": {
   "codemirror_mode": {
    "name": "ipython",
    "version": 3
   },
   "file_extension": ".py",
   "mimetype": "text/x-python",
   "name": "python",
   "nbconvert_exporter": "python",
   "pygments_lexer": "ipython3",
   "version": "3.8.18"
  }
 },
 "nbformat": 4,
 "nbformat_minor": 2
}
