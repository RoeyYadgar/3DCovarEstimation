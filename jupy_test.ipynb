{
 "cells": [
  {
   "cell_type": "markdown",
   "metadata": {
    "isInteractiveWindowMessageCell": true
   },
   "source": [
    "Restarted aspire (Python 3.8.18)"
   ]
  },
  {
   "cell_type": "code",
   "execution_count": 1,
   "metadata": {},
   "outputs": [
    {
     "name": "stdout",
     "output_type": "stream",
     "text": [
      "2024-03-27 12:44:28,443 INFO [aspire.source.image] Creating Simulation with 2000 images.\n"
     ]
    }
   ],
   "source": [
    "import aspire\n",
    "import numpy as np\n",
    "import pandas as pd\n",
    "from aspire.operators import RadialCTFFilter\n",
    "from aspire.source.simulation import Simulation\n",
    "from aspire.volume import LegacyVolume, Volume\n",
    "from utils import volsCovarEigenvec\n",
    "import time\n",
    "from covar_estimation import im_stack_backward\n",
    "import torch\n",
    "# Specify parameters\n",
    "img_size = 15  # image size in square\n",
    "num_imgs = 2000  # number of images\n",
    "dtype = np.float32\n",
    "\n",
    "\n",
    "rank = 4\n",
    "c = rank + 1\n",
    "vols = LegacyVolume(\n",
    "    L=img_size,\n",
    "    C=c,\n",
    "    dtype=dtype,\n",
    ").generate()\n",
    "vols -= np.mean(vols,axis=0)\n",
    "sim = Simulation(\n",
    "    #unique_filters=[RadialCTFFilter(defocus=d) for d in np.linspace(1.5e4, 2.5e4, 7)],\n",
    "    n=num_imgs,\n",
    "    vols=vols,\n",
    "    dtype=dtype,\n",
    "    amplitudes=1,\n",
    "    offsets = 0\n",
    ")\n",
    "\n",
    "vectorsGD = torch.tensor(volsCovarEigenvec(vols).asnumpy(),requires_grad = False)"
   ]
  },
  {
   "cell_type": "code",
   "execution_count": 8,
   "metadata": {},
   "outputs": [
    {
     "name": "stdout",
     "output_type": "stream",
     "text": [
      "The autoreload extension is already loaded. To reload it, use:\n",
      "  %reload_ext autoreload\n"
     ]
    }
   ],
   "source": [
    "%load_ext autoreload\n",
    "%autoreload 2\n",
    "\n",
    "from covar_sgd import CovarDataset,Covar,CovarTrainer,dataset_collate\n",
    "cds = CovarDataset(sim,rank = rank)\n",
    "covar = Covar(resolution=img_size,rank=rank,norm_factor=cds.im_norm_factor)#,vectors=vectorsGD)\n",
    "batch_size = 32\n",
    "learning_rate = 8e-4\n",
    "momentum = 0.9\n",
    "reg = 1e-5\n",
    "gamma_lr = 0.8\n",
    "gamma_reg = 1\n",
    "device = torch.device('cuda:0')\n",
    "dataloader = torch.utils.data.DataLoader(cds,batch_size = batch_size,shuffle = False)#,collate_fn=dataset_collate)\n",
    "trainer = CovarTrainer(covar,dataloader,device,vectorsGD = vectorsGD/cds.im_norm_factor)"
   ]
  },
  {
   "cell_type": "code",
   "execution_count": 9,
   "metadata": {},
   "outputs": [
    {
     "name": "stderr",
     "output_type": "stream",
     "text": [
      "gpu : 4 ,cost value : 2.68e+04,  cosine sim : 0.61: 100%|██████████| 63/63 [00:01<00:00, 39.70it/s]\n",
      "gpu : 1 ,cost value : 4.18e+04,  cosine sim : 0.61: 100%|██████████| 63/63 [00:01<00:00, 40.93it/s]\n",
      "gpu : 2 ,cost value : 2.89e+04,  cosine sim : 0.61: 100%|██████████| 63/63 [00:01<00:00, 39.68it/s]\n",
      "gpu : 6 ,cost value : 3.19e+04,  cosine sim : 0.61: 100%|██████████| 63/63 [00:01<00:00, 39.57it/s]\n",
      "gpu : 7 ,cost value : 4.07e+04,  cosine sim : 0.61: 100%|██████████| 63/63 [00:01<00:00, 39.16it/s]\n",
      "gpu : 0 ,cost value : 2.99e+04,  cosine sim : 0.61: 100%|██████████| 63/63 [00:01<00:00, 39.75it/s]\n",
      "gpu : 5 ,cost value : 3.64e+04,  cosine sim : 0.61: 100%|██████████| 63/63 [00:01<00:00, 39.72it/s]\n",
      "gpu : 3 ,cost value : 4.05e+04,  cosine sim : 0.61: 100%|██████████| 63/63 [00:01<00:00, 40.75it/s]\n",
      "gpu : 2 ,cost value : 2.62e+04,  cosine sim : 0.75: 100%|██████████| 63/63 [00:01<00:00, 47.10it/s]\n",
      "gpu : 6 ,cost value : 3.08e+04,  cosine sim : 0.75: 100%|██████████| 63/63 [00:01<00:00, 47.11it/s]\n",
      "gpu : 7 ,cost value : 3.84e+04,  cosine sim : 0.75: 100%|██████████| 63/63 [00:01<00:00, 47.13it/s]\n",
      "gpu : 5 ,cost value : 3.20e+04,  cosine sim : 0.75: 100%|██████████| 63/63 [00:01<00:00, 47.14it/s]\n",
      "gpu : 1 ,cost value : 3.72e+04,  cosine sim : 0.75: 100%|██████████| 63/63 [00:01<00:00, 47.07it/s]\n",
      "gpu : 4 ,cost value : 2.27e+04,  cosine sim : 0.75: 100%|██████████| 63/63 [00:01<00:00, 47.00it/s]\n",
      "gpu : 0 ,cost value : 3.08e+04,  cosine sim : 0.75: 100%|██████████| 63/63 [00:01<00:00, 47.11it/s]\n",
      "gpu : 3 ,cost value : 3.90e+04,  cosine sim : 0.75: 100%|██████████| 63/63 [00:01<00:00, 47.01it/s]\n",
      "gpu : 6 ,cost value : 3.12e+04,  cosine sim : 0.79: 100%|██████████| 63/63 [00:01<00:00, 50.88it/s]\n",
      "gpu : 0 ,cost value : 3.10e+04,  cosine sim : 0.79: 100%|██████████| 63/63 [00:01<00:00, 50.81it/s]\n",
      "gpu : 1 ,cost value : 3.84e+04,  cosine sim : 0.79: 100%|██████████| 63/63 [00:01<00:00, 50.79it/s]\n",
      "gpu : 4 ,cost value : 2.31e+04,  cosine sim : 0.79: 100%|██████████| 63/63 [00:01<00:00, 50.75it/s]\n",
      "gpu : 3 ,cost value : 4.02e+04,  cosine sim : 0.79: 100%|██████████| 63/63 [00:01<00:00, 50.87it/s]\n",
      "gpu : 2 ,cost value : 2.74e+04,  cosine sim : 0.79: 100%|██████████| 63/63 [00:01<00:00, 50.69it/s]\n",
      "gpu : 5 ,cost value : 3.08e+04,  cosine sim : 0.79: 100%|██████████| 63/63 [00:01<00:00, 50.66it/s]\n",
      "gpu : 7 ,cost value : 3.84e+04,  cosine sim : 0.79: 100%|██████████| 63/63 [00:01<00:00, 50.65it/s]\n",
      "gpu : 5 ,cost value : 3.04e+04,  cosine sim : 0.80: 100%|██████████| 63/63 [00:01<00:00, 55.69it/s]\n",
      "gpu : 4 ,cost value : 2.32e+04,  cosine sim : 0.80: 100%|██████████| 63/63 [00:01<00:00, 55.58it/s]\n",
      "gpu : 7 ,cost value : 3.80e+04,  cosine sim : 0.80: 100%|██████████| 63/63 [00:01<00:00, 55.67it/s]\n",
      "gpu : 0 ,cost value : 3.08e+04,  cosine sim : 0.80: 100%|██████████| 63/63 [00:01<00:00, 55.48it/s]\n",
      "gpu : 2 ,cost value : 2.82e+04,  cosine sim : 0.80: 100%|██████████| 63/63 [00:01<00:00, 55.57it/s]\n",
      "gpu : 1 ,cost value : 3.86e+04,  cosine sim : 0.80: 100%|██████████| 63/63 [00:01<00:00, 55.44it/s]\n",
      "gpu : 6 ,cost value : 3.14e+04,  cosine sim : 0.80: 100%|██████████| 63/63 [00:01<00:00, 55.30it/s]\n",
      "gpu : 3 ,cost value : 4.03e+04,  cosine sim : 0.80: 100%|██████████| 63/63 [00:01<00:00, 55.50it/s]\n",
      "gpu : 0 ,cost value : 3.05e+04,  cosine sim : 0.81: 100%|██████████| 63/63 [00:01<00:00, 47.46it/s]\n",
      "gpu : 6 ,cost value : 3.13e+04,  cosine sim : 0.81: 100%|██████████| 63/63 [00:01<00:00, 47.48it/s]\n",
      "gpu : 2 ,cost value : 2.87e+04,  cosine sim : 0.81: 100%|██████████| 63/63 [00:01<00:00, 47.45it/s]\n",
      "gpu : 7 ,cost value : 3.81e+04,  cosine sim : 0.81: 100%|██████████| 63/63 [00:01<00:00, 47.35it/s]\n",
      "gpu : 3 ,cost value : 4.02e+04,  cosine sim : 0.81: 100%|██████████| 63/63 [00:01<00:00, 47.42it/s]\n",
      "Epoch 5 , :   0%|          | 0/63 [00:00<?, ?it/s]: 100%|██████████| 63/63 [00:01<00:00, 47.31it/s]\n",
      "gpu : 1 ,cost value : 3.87e+04,  cosine sim : 0.81: 100%|██████████| 63/63 [00:01<00:00, 47.36it/s]\n",
      "gpu : 5 ,cost value : 3.02e+04,  cosine sim : 0.81: 100%|██████████| 63/63 [00:01<00:00, 47.27it/s]\n",
      "gpu : 4 ,cost value : 2.34e+04,  cosine sim : 0.83: 100%|██████████| 63/63 [00:01<00:00, 49.06it/s]\n",
      "gpu : 5 ,cost value : 3.03e+04,  cosine sim : 0.83: 100%|██████████| 63/63 [00:01<00:00, 49.11it/s]\n",
      "gpu : 6 ,cost value : 3.15e+04,  cosine sim : 0.83: 100%|██████████| 63/63 [00:01<00:00, 48.91it/s]\n",
      "gpu : 3 ,cost value : 4.02e+04,  cosine sim : 0.83: 100%|██████████| 63/63 [00:01<00:00, 49.02it/s]\n",
      "gpu : 2 ,cost value : 2.93e+04,  cosine sim : 0.83: 100%|██████████| 63/63 [00:01<00:00, 48.92it/s]\n",
      "gpu : 7 ,cost value : 3.82e+04,  cosine sim : 0.83: 100%|██████████| 63/63 [00:01<00:00, 48.96it/s]\n",
      "gpu : 0 ,cost value : 3.04e+04,  cosine sim : 0.83: 100%|██████████| 63/63 [00:01<00:00, 48.85it/s]\n",
      "gpu : 1 ,cost value : 3.89e+04,  cosine sim : 0.83: 100%|██████████| 63/63 [00:01<00:00, 48.95it/s]\n",
      "gpu : 0 ,cost value : 3.04e+04,  cosine sim : 0.84: 100%|██████████| 63/63 [00:01<00:00, 51.60it/s]\n",
      "gpu : 4 ,cost value : 2.35e+04,  cosine sim : 0.84: 100%|██████████| 63/63 [00:01<00:00, 51.36it/s]\n",
      "gpu : 1 ,cost value : 3.92e+04,  cosine sim : 0.84: 100%|██████████| 63/63 [00:01<00:00, 51.53it/s]\n",
      "gpu : 7 ,cost value : 3.83e+04,  cosine sim : 0.84: 100%|██████████| 63/63 [00:01<00:00, 51.42it/s]\n",
      "gpu : 6 ,cost value : 3.17e+04,  cosine sim : 0.84: 100%|██████████| 63/63 [00:01<00:00, 51.37it/s]\n",
      "gpu : 3 ,cost value : 4.00e+04,  cosine sim : 0.84: 100%|██████████| 63/63 [00:01<00:00, 51.36it/s]\n",
      "gpu : 2 ,cost value : 2.97e+04,  cosine sim : 0.84: 100%|██████████| 63/63 [00:01<00:00, 51.27it/s]\n",
      "\n",
      "gpu : 3 ,cost value : 4.00e+04,  cosine sim : 0.85: 100%|██████████| 63/63 [00:01<00:00, 54.18it/s]\n",
      "gpu : 6 ,cost value : 3.16e+04,  cosine sim : 0.85: 100%|██████████| 63/63 [00:01<00:00, 54.05it/s]\n",
      "gpu : 1 ,cost value : 3.93e+04,  cosine sim : 0.85: 100%|██████████| 63/63 [00:01<00:00, 54.02it/s]\n",
      "gpu : 2 ,cost value : 2.97e+04,  cosine sim : 0.85: 100%|██████████| 63/63 [00:01<00:00, 54.17it/s]\n",
      "gpu : 5 ,cost value : 3.05e+04,  cosine sim : 0.85: 100%|██████████| 63/63 [00:01<00:00, 54.13it/s]\n",
      "gpu : 4 ,cost value : 2.35e+04,  cosine sim : 0.85: 100%|██████████| 63/63 [00:01<00:00, 53.97it/s]\n",
      "gpu : 0 ,cost value : 3.03e+04,  cosine sim : 0.85: 100%|██████████| 63/63 [00:01<00:00, 53.75it/s]\n",
      "gpu : 7 ,cost value : 3.85e+04,  cosine sim : 0.85: 100%|██████████| 63/63 [00:01<00:00, 53.84it/s]\n",
      "gpu : 3 ,cost value : 4.00e+04,  cosine sim : 0.85: 100%|██████████| 63/63 [00:01<00:00, 51.51it/s]\n",
      "gpu : 7 ,cost value : 3.88e+04,  cosine sim : 0.85: 100%|██████████| 63/63 [00:01<00:00, 51.70it/s]\n",
      "\n",
      "gpu : 0 ,cost value : 3.03e+04,  cosine sim : 0.85: 100%|██████████| 63/63 [00:01<00:00, 51.59it/s]\n",
      "gpu : 2 ,cost value : 2.95e+04,  cosine sim : 0.85: 100%|██████████| 63/63 [00:01<00:00, 51.51it/s]\n",
      "gpu : 1 ,cost value : 3.93e+04,  cosine sim : 0.85: 100%|██████████| 63/63 [00:01<00:00, 51.47it/s]\n",
      "gpu : 5 ,cost value : 3.03e+04,  cosine sim : 0.85: 100%|██████████| 63/63 [00:01<00:00, 51.39it/s]\n",
      "gpu : 4 ,cost value : 2.33e+04,  cosine sim : 0.85: 100%|██████████| 63/63 [00:01<00:00, 51.35it/s]\n",
      "gpu : 3 ,cost value : 3.99e+04,  cosine sim : 0.86: 100%|██████████| 63/63 [00:01<00:00, 50.08it/s]\n",
      "gpu : 4 ,cost value : 2.32e+04,  cosine sim : 0.86: 100%|██████████| 63/63 [00:01<00:00, 50.33it/s]\n",
      "gpu : 5 ,cost value : 3.03e+04,  cosine sim : 0.86: 100%|██████████| 63/63 [00:01<00:00, 50.28it/s]\n",
      "gpu : 6 ,cost value : 3.11e+04,  cosine sim : 0.86: 100%|██████████| 63/63 [00:01<00:00, 50.08it/s]\n",
      "gpu : 7 ,cost value : 3.89e+04,  cosine sim : 0.86: 100%|██████████| 63/63 [00:01<00:00, 50.08it/s]\n",
      "\n",
      "gpu : 0 ,cost value : 3.02e+04,  cosine sim : 0.86: 100%|██████████| 63/63 [00:01<00:00, 50.08it/s]\n",
      "gpu : 1 ,cost value : 3.91e+04,  cosine sim : 0.86: 100%|██████████| 63/63 [00:01<00:00, 49.99it/s]\n"
     ]
    }
   ],
   "source": [
    "\n",
    "from covar_distributed import trainParallel\n",
    "import torch.multiprocessing as mp\n",
    "\n",
    "world_size = torch.cuda.device_count()\n",
    "kwargs_dict = {'max_epochs' : 10, 'lr' : learning_rate,'momentum' : momentum,'optim_type' : 'SGD','reg' : reg,'gamma_lr': gamma_lr,'gamma_reg' : gamma_reg}\n",
    "trainParallel(covar,cds,batch_size = batch_size,vectorsGD = vectorsGD/cds.im_norm_factor,**kwargs_dict)\n",
    "\n"
   ]
  },
  {
   "cell_type": "code",
   "execution_count": null,
   "metadata": {},
   "outputs": [],
   "source": [
    "trainer.train(**kwargs_dict)"
   ]
  }
 ],
 "metadata": {
  "kernelspec": {
   "display_name": "aspire",
   "language": "python",
   "name": "python3"
  },
  "language_info": {
   "codemirror_mode": {
    "name": "ipython",
    "version": 3
   },
   "file_extension": ".py",
   "mimetype": "text/x-python",
   "name": "python",
   "nbconvert_exporter": "python",
   "pygments_lexer": "ipython3",
   "version": "3.8.18"
  }
 },
 "nbformat": 4,
 "nbformat_minor": 2
}
