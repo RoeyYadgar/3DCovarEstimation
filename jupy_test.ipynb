{
 "cells": [
  {
   "cell_type": "markdown",
   "metadata": {
    "isInteractiveWindowMessageCell": true
   },
   "source": [
    "Restarted aspire (Python 3.8.18)"
   ]
  },
  {
   "cell_type": "code",
   "execution_count": 11,
   "metadata": {},
   "outputs": [
    {
     "name": "stdout",
     "output_type": "stream",
     "text": [
      "2024-03-22 18:40:30,347 INFO [aspire.source.image] Creating Simulation with 2000 images.\n"
     ]
    }
   ],
   "source": [
    "import aspire\n",
    "import numpy as np\n",
    "import pandas as pd\n",
    "from aspire.operators import RadialCTFFilter\n",
    "from aspire.source.simulation import Simulation\n",
    "from aspire.volume import LegacyVolume, Volume\n",
    "from utils import volsCovarEigenvec\n",
    "import time\n",
    "from covar_estimation import im_stack_backward\n",
    "import torch\n",
    "# Specify parameters\n",
    "img_size = 15  # image size in square\n",
    "num_imgs = 2000  # number of images\n",
    "dtype = np.float32\n",
    "\n",
    "\n",
    "rank = 1\n",
    "c = rank + 1\n",
    "vols = LegacyVolume(\n",
    "    L=img_size,\n",
    "    C=c,\n",
    "    dtype=dtype,\n",
    ").generate()\n",
    "vols -= np.mean(vols,axis=0)\n",
    "sim = Simulation(\n",
    "    #unique_filters=[RadialCTFFilter(defocus=d) for d in np.linspace(1.5e4, 2.5e4, 7)],\n",
    "    n=num_imgs,\n",
    "    vols=vols,\n",
    "    dtype=dtype,\n",
    "    amplitudes=1,\n",
    "    offsets = 0\n",
    ")\n",
    "\n",
    "vectorsGD = torch.tensor(volsCovarEigenvec(vols).asnumpy(),requires_grad = False)"
   ]
  },
  {
   "cell_type": "code",
   "execution_count": 12,
   "metadata": {},
   "outputs": [
    {
     "name": "stdout",
     "output_type": "stream",
     "text": [
      "The autoreload extension is already loaded. To reload it, use:\n",
      "  %reload_ext autoreload\n"
     ]
    }
   ],
   "source": [
    "%load_ext autoreload\n",
    "%autoreload 2\n",
    "\n",
    "from covar_sgd import CovarDataset,Covar,CovarTrainer,dataset_collate\n",
    "cds = CovarDataset(sim,rank = rank)\n",
    "covar = Covar(resolution=img_size,rank=rank,norm_factor=cds.im_norm_factor)\n",
    "batch_size = 20\n",
    "learning_rate = 1e-5\n",
    "momentum = 0.9\n",
    "device = torch.device('cuda:0')\n",
    "dataloader = torch.utils.data.DataLoader(cds,batch_size = batch_size,shuffle = False,collate_fn=dataset_collate)\n",
    "optimizer = torch.optim.SGD(covar.parameters(),lr = learning_rate,momentum = momentum)\n",
    "trainer = CovarTrainer(covar,dataloader,optimizer,device)"
   ]
  },
  {
   "cell_type": "code",
   "execution_count": 13,
   "metadata": {},
   "outputs": [
    {
     "name": "stdout",
     "output_type": "stream",
     "text": [
      "tensor(9.7106, device='cuda:0', grad_fn=<MeanBackward1>)\n",
      "tensor(13.2256, device='cuda:0', grad_fn=<MeanBackward1>)\n",
      "tensor(11.0746, device='cuda:0', grad_fn=<MeanBackward1>)\n",
      "tensor(10.3704, device='cuda:0', grad_fn=<MeanBackward1>)\n",
      "tensor(9.9364, device='cuda:0', grad_fn=<MeanBackward1>)\n",
      "tensor(11.3395, device='cuda:0', grad_fn=<MeanBackward1>)\n",
      "tensor(11.9322, device='cuda:0', grad_fn=<MeanBackward1>)\n",
      "tensor(11.4423, device='cuda:0', grad_fn=<MeanBackward1>)\n",
      "tensor(12.8222, device='cuda:0', grad_fn=<MeanBackward1>)\n",
      "tensor(10.2688, device='cuda:0', grad_fn=<MeanBackward1>)\n",
      "tensor(13.6417, device='cuda:0', grad_fn=<MeanBackward1>)\n",
      "tensor(11.1644, device='cuda:0', grad_fn=<MeanBackward1>)\n",
      "tensor(13.2421, device='cuda:0', grad_fn=<MeanBackward1>)\n",
      "tensor(12.8006, device='cuda:0', grad_fn=<MeanBackward1>)\n",
      "tensor(15.4705, device='cuda:0', grad_fn=<MeanBackward1>)\n",
      "tensor(11.2478, device='cuda:0', grad_fn=<MeanBackward1>)\n",
      "tensor(9.2102, device='cuda:0', grad_fn=<MeanBackward1>)\n",
      "tensor(11.7175, device='cuda:0', grad_fn=<MeanBackward1>)\n",
      "tensor(11.8682, device='cuda:0', grad_fn=<MeanBackward1>)\n",
      "tensor(10.7011, device='cuda:0', grad_fn=<MeanBackward1>)\n",
      "tensor(10.7201, device='cuda:0', grad_fn=<MeanBackward1>)\n",
      "tensor(12.4187, device='cuda:0', grad_fn=<MeanBackward1>)\n",
      "tensor(13.3641, device='cuda:0', grad_fn=<MeanBackward1>)\n",
      "tensor(10.9896, device='cuda:0', grad_fn=<MeanBackward1>)\n",
      "tensor(8.2848, device='cuda:0', grad_fn=<MeanBackward1>)\n",
      "tensor(9.6132, device='cuda:0', grad_fn=<MeanBackward1>)\n",
      "tensor(11.8555, device='cuda:0', grad_fn=<MeanBackward1>)\n",
      "tensor(13.0109, device='cuda:0', grad_fn=<MeanBackward1>)\n",
      "tensor(11.6517, device='cuda:0', grad_fn=<MeanBackward1>)\n",
      "tensor(11.8447, device='cuda:0', grad_fn=<MeanBackward1>)\n",
      "tensor(10.8438, device='cuda:0', grad_fn=<MeanBackward1>)\n",
      "tensor(12.4945, device='cuda:0', grad_fn=<MeanBackward1>)\n",
      "tensor(9.9925, device='cuda:0', grad_fn=<MeanBackward1>)\n",
      "tensor(12.5343, device='cuda:0', grad_fn=<MeanBackward1>)\n",
      "tensor(11.6434, device='cuda:0', grad_fn=<MeanBackward1>)\n",
      "tensor(12.3530, device='cuda:0', grad_fn=<MeanBackward1>)\n",
      "tensor(11.5746, device='cuda:0', grad_fn=<MeanBackward1>)\n",
      "tensor(14.8879, device='cuda:0', grad_fn=<MeanBackward1>)\n",
      "tensor(11.7036, device='cuda:0', grad_fn=<MeanBackward1>)\n",
      "tensor(11.2443, device='cuda:0', grad_fn=<MeanBackward1>)\n",
      "tensor(10.2688, device='cuda:0', grad_fn=<MeanBackward1>)\n",
      "tensor(9.9495, device='cuda:0', grad_fn=<MeanBackward1>)\n",
      "tensor(9.6528, device='cuda:0', grad_fn=<MeanBackward1>)\n",
      "tensor(9.6882, device='cuda:0', grad_fn=<MeanBackward1>)\n",
      "tensor(13.5043, device='cuda:0', grad_fn=<MeanBackward1>)\n",
      "tensor(12.4421, device='cuda:0', grad_fn=<MeanBackward1>)\n",
      "tensor(14.4424, device='cuda:0', grad_fn=<MeanBackward1>)\n",
      "tensor(11.6421, device='cuda:0', grad_fn=<MeanBackward1>)\n",
      "tensor(14.4230, device='cuda:0', grad_fn=<MeanBackward1>)\n",
      "tensor(11.6220, device='cuda:0', grad_fn=<MeanBackward1>)\n",
      "tensor(11.1272, device='cuda:0', grad_fn=<MeanBackward1>)\n",
      "tensor(10.6945, device='cuda:0', grad_fn=<MeanBackward1>)\n",
      "tensor(11.4547, device='cuda:0', grad_fn=<MeanBackward1>)\n",
      "tensor(11.5414, device='cuda:0', grad_fn=<MeanBackward1>)\n",
      "tensor(10.9645, device='cuda:0', grad_fn=<MeanBackward1>)\n",
      "tensor(12.0204, device='cuda:0', grad_fn=<MeanBackward1>)\n",
      "tensor(13.2482, device='cuda:0', grad_fn=<MeanBackward1>)\n",
      "tensor(13.6895, device='cuda:0', grad_fn=<MeanBackward1>)\n",
      "tensor(14.8000, device='cuda:0', grad_fn=<MeanBackward1>)\n",
      "tensor(10.0300, device='cuda:0', grad_fn=<MeanBackward1>)\n",
      "tensor(10.3107, device='cuda:0', grad_fn=<MeanBackward1>)\n",
      "tensor(10.3533, device='cuda:0', grad_fn=<MeanBackward1>)\n",
      "tensor(10.4146, device='cuda:0', grad_fn=<MeanBackward1>)\n",
      "tensor(11.1304, device='cuda:0', grad_fn=<MeanBackward1>)\n",
      "tensor(10.8059, device='cuda:0', grad_fn=<MeanBackward1>)\n",
      "tensor(11.1315, device='cuda:0', grad_fn=<MeanBackward1>)\n",
      "tensor(9.3795, device='cuda:0', grad_fn=<MeanBackward1>)\n",
      "tensor(13.5350, device='cuda:0', grad_fn=<MeanBackward1>)\n",
      "tensor(10.6398, device='cuda:0', grad_fn=<MeanBackward1>)\n",
      "tensor(13.2857, device='cuda:0', grad_fn=<MeanBackward1>)\n",
      "tensor(12.7008, device='cuda:0', grad_fn=<MeanBackward1>)\n",
      "tensor(10.8456, device='cuda:0', grad_fn=<MeanBackward1>)\n",
      "tensor(11.5146, device='cuda:0', grad_fn=<MeanBackward1>)\n",
      "tensor(12.0063, device='cuda:0', grad_fn=<MeanBackward1>)\n",
      "tensor(13.3306, device='cuda:0', grad_fn=<MeanBackward1>)\n",
      "tensor(11.0717, device='cuda:0', grad_fn=<MeanBackward1>)\n",
      "tensor(10.7916, device='cuda:0', grad_fn=<MeanBackward1>)\n",
      "tensor(12.0617, device='cuda:0', grad_fn=<MeanBackward1>)\n",
      "tensor(11.2251, device='cuda:0', grad_fn=<MeanBackward1>)\n",
      "tensor(9.3122, device='cuda:0', grad_fn=<MeanBackward1>)\n",
      "tensor(12.7151, device='cuda:0', grad_fn=<MeanBackward1>)\n",
      "tensor(11.5663, device='cuda:0', grad_fn=<MeanBackward1>)\n",
      "tensor(10.3325, device='cuda:0', grad_fn=<MeanBackward1>)\n",
      "tensor(10.6307, device='cuda:0', grad_fn=<MeanBackward1>)\n",
      "tensor(9.7822, device='cuda:0', grad_fn=<MeanBackward1>)\n",
      "tensor(12.1452, device='cuda:0', grad_fn=<MeanBackward1>)\n",
      "tensor(11.5835, device='cuda:0', grad_fn=<MeanBackward1>)\n",
      "tensor(11.0519, device='cuda:0', grad_fn=<MeanBackward1>)\n",
      "tensor(13.0263, device='cuda:0', grad_fn=<MeanBackward1>)\n",
      "tensor(10.3739, device='cuda:0', grad_fn=<MeanBackward1>)\n",
      "tensor(14.6815, device='cuda:0', grad_fn=<MeanBackward1>)\n",
      "tensor(12.2154, device='cuda:0', grad_fn=<MeanBackward1>)\n",
      "tensor(11.5864, device='cuda:0', grad_fn=<MeanBackward1>)\n",
      "tensor(10.1206, device='cuda:0', grad_fn=<MeanBackward1>)\n",
      "tensor(14.3287, device='cuda:0', grad_fn=<MeanBackward1>)\n",
      "tensor(10.9708, device='cuda:0', grad_fn=<MeanBackward1>)\n",
      "tensor(13.5335, device='cuda:0', grad_fn=<MeanBackward1>)\n",
      "tensor(13.6994, device='cuda:0', grad_fn=<MeanBackward1>)\n",
      "tensor(9.6831, device='cuda:0', grad_fn=<MeanBackward1>)\n",
      "tensor(12.4808, device='cuda:0', grad_fn=<MeanBackward1>)\n"
     ]
    }
   ],
   "source": [
    "trainer.train(1)"
   ]
  },
  {
   "cell_type": "code",
   "execution_count": 18,
   "metadata": {},
   "outputs": [
    {
     "name": "stdout",
     "output_type": "stream",
     "text": [
      "tensor(0.0579, device='cuda:0', grad_fn=<MeanBackward1>) tensor(6.9141e-08, device='cuda:0', grad_fn=<MeanBackward1>)\n"
     ]
    }
   ],
   "source": [
    "images,plans = cds[:]\n",
    "images = images.to(device)\n",
    "#covar = Covar(resolution=img_size,rank=rank,norm_factor=cds.im_norm_factor)\n",
    "#covar = covar.to(device)\n",
    "#a = covar.cost(images[0],plans[0])\n",
    "covarGD = Covar(resolution=img_size,rank=rank,norm_factor=cds.im_norm_factor,vectors=vectorsGD)\n",
    "covarGD = covarGD.to(device)\n",
    "b = covarGD.cost(images,plans)\n",
    "\n",
    "print(a,b)"
   ]
  }
 ],
 "metadata": {
  "kernelspec": {
   "display_name": "aspire",
   "language": "python",
   "name": "python3"
  },
  "language_info": {
   "codemirror_mode": {
    "name": "ipython",
    "version": 3
   },
   "file_extension": ".py",
   "mimetype": "text/x-python",
   "name": "python",
   "nbconvert_exporter": "python",
   "pygments_lexer": "ipython3",
   "version": "3.8.18"
  }
 },
 "nbformat": 4,
 "nbformat_minor": 2
}
